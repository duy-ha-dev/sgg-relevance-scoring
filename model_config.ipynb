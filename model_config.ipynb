{
 "cells": [
  {
   "cell_type": "markdown",
   "metadata": {},
   "source": [
    "# Modeling Configuration Notebook\n",
    "Make sure you have already gone through the setup_guide.ipynb notebook. If you are using just a singular runtime on Google Colab, simply extend these cells to the setup_guide.ipynb for a continuous workflow.\n",
    "\n",
    "Citing: https://medium.com/stanford-cs224w/scene-graph-generation-compression-and-classification-on-action-genome-dataset-9f692a1d5394"
   ]
  },
  {
   "cell_type": "markdown",
   "metadata": {},
   "source": [
    "## Setting Directories"
   ]
  },
  {
   "cell_type": "code",
   "execution_count": null,
   "metadata": {},
   "outputs": [],
   "source": [
    "!mkdir glove\n",
    "!mkdir checkpoints\n",
    "!mkdir checkpoints/custom_images\n",
    "!mkdir checkpoints/your_output_path"
   ]
  },
  {
   "cell_type": "markdown",
   "metadata": {},
   "source": [
    "## Define Path Variables"
   ]
  },
  {
   "cell_type": "code",
   "execution_count": null,
   "metadata": {},
   "outputs": [],
   "source": [
    "# Path to glove directory\n",
    "glove_dir = '/glove' \n",
    "\n",
    "# Path to the pretrained model\n",
    "pretrained_model_path = '/upload_causal_motif_sgdet/'\n",
    "\n",
    "# Path to output directory for default VGG\n",
    "output_dir = '/upload_causal_motif_sgdet/' \n",
    "\n",
    "# If evaluation should be done on custom images, set this 'True'\n",
    "test_custom_images = True\n",
    "\n",
    "# The path for custom images for SGG detection, if TEST.CUSTUM_EVAL is 'True'\n",
    "images_path = '/imgs'\n",
    "\n",
    "# The path for output of SGG for custom images, if TEST.CUSTUM_EVAL is 'True'\n",
    "sgg_output = '/results'\n",
    "\n",
    "# Path to configuration file for Unbiased TDE\n",
    "configuration_file = \"sgg-relevance-scoring/scene-graph-benchmark/configs/e2e_relation_X_101_32_8_FPN_1x.yaml\" "
   ]
  },
  {
   "cell_type": "markdown",
   "metadata": {},
   "source": [
    "## Modeling"
   ]
  },
  {
   "cell_type": "code",
   "execution_count": null,
   "metadata": {},
   "outputs": [],
   "source": [
    "!CUDA_VISIBLE_DEVICES=0 python -m torch.distributed.launch \\\n",
    "--master_port 10027 --nproc_per_node=1 tools/relation_test_net.py \\\n",
    "--config-file f\"{configuration_file}\" \\\n",
    "MODEL.ROI_RELATION_HEAD.USE_GT_BOX False \\\n",
    "MODEL.ROI_RELATION_HEAD.USE_GT_OBJECT_LABEL False \\\n",
    "MODEL.ROI_RELATION_HEAD.PREDICTOR CausalAnalysisPredictor \\\n",
    "MODEL.ROI_RELATION_HEAD.CAUSAL.EFFECT_TYPE TDE \\\n",
    "MODEL.ROI_RELATION_HEAD.CAUSAL.FUSION_TYPE sum \\\n",
    "MODEL.ROI_RELATION_HEAD.CAUSAL.CONTEXT_LAYER motifs \\\n",
    "TEST.IMS_PER_BATCH 1 \\\n",
    "DTYPE \"float16\" \\\n",
    "GLOVE_DIR \"{glove_dir}\" \\\n",
    "MODEL.PRETRAINED_DETECTOR_CKPT \"{pretrained_model_path}\" \\\n",
    "OUTPUT_DIR \"{output_dir}\" \\\n",
    "TEST.CUSTUM_EVAL {test_custom_images} \\\n",
    "TEST.CUSTUM_PATH \"{images_path}\" \\\n",
    "DETECTED_SGG_DIR \"{sgg_output}\""
   ]
  },
  {
   "cell_type": "markdown",
   "metadata": {},
   "source": []
  }
 ],
 "metadata": {
  "kernelspec": {
   "display_name": "sgg_relevance_scoring",
   "language": "python",
   "name": "python3"
  },
  "language_info": {
   "codemirror_mode": {
    "name": "ipython",
    "version": 3
   },
   "file_extension": ".py",
   "mimetype": "text/x-python",
   "name": "python",
   "nbconvert_exporter": "python",
   "pygments_lexer": "ipython3",
   "version": "3.8.19"
  }
 },
 "nbformat": 4,
 "nbformat_minor": 2
}

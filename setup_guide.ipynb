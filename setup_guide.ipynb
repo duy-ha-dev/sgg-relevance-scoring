{
 "cells": [
  {
   "cell_type": "markdown",
   "metadata": {},
   "source": [
    "# Setup Instructions\n",
    "\n",
    "**Requirements**\n",
    "In general, the requirements are similar to Facebook's `maskrcnn-benchmark`:\n",
    "\n",
    "- Python <= 3.8\n",
    "- PyTorch >= 1.2 \n",
    "- torchvision >= 0.4\n",
    "- cocoapi\n",
    "- yacs\n",
    "- matplotlib\n",
    "- GCC >= 4.9\n",
    "- OpenCV\n"
   ]
  },
  {
   "cell_type": "markdown",
   "metadata": {},
   "source": [
    "## 1. Creating Conda Environment for Python 3.8\n",
    "\n",
    "The conda environment that you are planning on using for this setup should be the one running on this notebook. If this is the case, please proceed to the next step; otherwise, in your terminal, you can execute the following commands to set up your environment. **This installation notebook assumes you have a fresh new environment to avoid dependency issues**\n",
    "\n",
    "`$ conda create --name sgg_relevance_scoring python=3.8`\n",
    "\n",
    "To activate this new environment:\n",
    "\n",
    "`$ conda activate sgg_relevance_scoring`\n",
    "\n",
    "Make sure to deactivate the environment when you are done using it:\n",
    "\n",
    "`$ conda deactivate`"
   ]
  },
  {
   "cell_type": "code",
   "execution_count": 1,
   "metadata": {},
   "outputs": [
    {
     "name": "stdout",
     "output_type": "stream",
     "text": [
      "\n",
      "     active environment : ssg_relevance_scoring\n",
      "    active env location : C:\\Users\\maple\\anaconda3\\envs\\ssg_relevance_scoring\n",
      "            shell level : 1\n",
      "       user config file : C:\\Users\\maple\\.condarc\n",
      " populated config files : C:\\Users\\maple\\.condarc\n",
      "          conda version : 23.3.1\n",
      "    conda-build version : 3.23.1\n",
      "         python version : 3.9.15.final.0\n",
      "       virtual packages : __archspec=1=x86_64\n",
      "                          __cuda=12.3=0\n",
      "                          __win=0=0\n",
      "       base environment : C:\\Users\\maple\\anaconda3  (writable)\n",
      "      conda av data dir : C:\\Users\\maple\\anaconda3\\etc\\conda\n",
      "  conda av metadata url : None\n",
      "           channel URLs : https://conda.anaconda.org/menpo/win-64\n",
      "                          https://conda.anaconda.org/menpo/noarch\n",
      "                          https://conda.anaconda.org/bioconda/win-64\n",
      "                          https://conda.anaconda.org/bioconda/noarch\n",
      "                          https://conda.anaconda.org/r/win-64\n",
      "                          https://conda.anaconda.org/r/noarch\n",
      "                          https://repo.anaconda.com/pkgs/main/win-64\n",
      "                          https://repo.anaconda.com/pkgs/main/noarch\n",
      "                          https://repo.anaconda.com/pkgs/r/win-64\n",
      "                          https://repo.anaconda.com/pkgs/r/noarch\n",
      "                          https://repo.anaconda.com/pkgs/msys2/win-64\n",
      "                          https://repo.anaconda.com/pkgs/msys2/noarch\n",
      "                          https://conda.anaconda.org/conda-forge/win-64\n",
      "                          https://conda.anaconda.org/conda-forge/noarch\n",
      "          package cache : C:\\Users\\maple\\anaconda3\\pkgs\n",
      "                          C:\\Users\\maple\\.conda\\pkgs\n",
      "                          C:\\Users\\maple\\AppData\\Local\\conda\\conda\\pkgs\n",
      "       envs directories : C:\\Users\\maple\\anaconda3\\envs\n",
      "                          C:\\Users\\maple\\.conda\\envs\n",
      "                          C:\\Users\\maple\\AppData\\Local\\conda\\conda\\envs\n",
      "               platform : win-64\n",
      "             user-agent : conda/23.3.1 requests/2.28.1 CPython/3.9.15 Windows/10 Windows/10.0.22631 aau/0.4.3 c/W8_6XiGVq7Nh9gEcwm8fww s/x2BbKv6lLZpfu-f7Mii9Cg e/UeRdSYrJiLelxyGib1_Xxw\n",
      "          administrator : False\n",
      "             netrc file : None\n",
      "           offline mode : False\n",
      "\n"
     ]
    }
   ],
   "source": [
    "# Confirm that the notebook is running in the correct environment\n",
    "!conda info\n",
    "\n",
    "# Also confirm that the environment is running on Python 3.8\n",
    "!python --version"
   ]
  },
  {
   "cell_type": "markdown",
   "metadata": {},
   "source": [
    "## 2. Installing Dependencies"
   ]
  },
  {
   "cell_type": "markdown",
   "metadata": {},
   "source": [
    "### 2.1 Required Python Packages"
   ]
  },
  {
   "cell_type": "code",
   "execution_count": 1,
   "metadata": {},
   "outputs": [
    {
     "name": "stdout",
     "output_type": "stream",
     "text": [
      "Requirement already satisfied: ipython in c:\\users\\maple\\anaconda3\\envs\\comp_459\\lib\\site-packages (8.12.2)\n",
      "Requirement already satisfied: backcall in c:\\users\\maple\\anaconda3\\envs\\comp_459\\lib\\site-packages (from ipython) (0.2.0)\n",
      "Requirement already satisfied: decorator in c:\\users\\maple\\anaconda3\\envs\\comp_459\\lib\\site-packages (from ipython) (5.1.1)\n",
      "Requirement already satisfied: jedi>=0.16 in c:\\users\\maple\\anaconda3\\envs\\comp_459\\lib\\site-packages (from ipython) (0.19.1)\n",
      "Requirement already satisfied: matplotlib-inline in c:\\users\\maple\\anaconda3\\envs\\comp_459\\lib\\site-packages (from ipython) (0.1.6)\n",
      "Requirement already satisfied: pickleshare in c:\\users\\maple\\anaconda3\\envs\\comp_459\\lib\\site-packages (from ipython) (0.7.5)\n",
      "Requirement already satisfied: prompt-toolkit!=3.0.37,<3.1.0,>=3.0.30 in c:\\users\\maple\\anaconda3\\envs\\comp_459\\lib\\site-packages (from ipython) (3.0.42)\n",
      "Requirement already satisfied: pygments>=2.4.0 in c:\\users\\maple\\anaconda3\\envs\\comp_459\\lib\\site-packages (from ipython) (2.17.2)\n",
      "Requirement already satisfied: stack-data in c:\\users\\maple\\anaconda3\\envs\\comp_459\\lib\\site-packages (from ipython) (0.6.2)\n",
      "Requirement already satisfied: traitlets>=5 in c:\\users\\maple\\anaconda3\\envs\\comp_459\\lib\\site-packages (from ipython) (5.14.2)\n",
      "Requirement already satisfied: typing-extensions in c:\\users\\maple\\anaconda3\\envs\\comp_459\\lib\\site-packages (from ipython) (4.10.0)\n",
      "Requirement already satisfied: colorama in c:\\users\\maple\\appdata\\roaming\\python\\python38\\site-packages (from ipython) (0.4.4)\n",
      "Requirement already satisfied: parso<0.9.0,>=0.8.3 in c:\\users\\maple\\anaconda3\\envs\\comp_459\\lib\\site-packages (from jedi>=0.16->ipython) (0.8.3)\n",
      "Requirement already satisfied: wcwidth in c:\\users\\maple\\anaconda3\\envs\\comp_459\\lib\\site-packages (from prompt-toolkit!=3.0.37,<3.1.0,>=3.0.30->ipython) (0.2.13)\n",
      "Requirement already satisfied: executing>=1.2.0 in c:\\users\\maple\\anaconda3\\envs\\comp_459\\lib\\site-packages (from stack-data->ipython) (2.0.1)\n",
      "Requirement already satisfied: asttokens>=2.1.0 in c:\\users\\maple\\anaconda3\\envs\\comp_459\\lib\\site-packages (from stack-data->ipython) (2.4.1)\n",
      "Requirement already satisfied: pure-eval in c:\\users\\maple\\anaconda3\\envs\\comp_459\\lib\\site-packages (from stack-data->ipython) (0.2.2)\n",
      "Requirement already satisfied: six>=1.12.0 in c:\\users\\maple\\anaconda3\\envs\\comp_459\\lib\\site-packages (from asttokens>=2.1.0->stack-data->ipython) (1.16.0)\n",
      "Note: you may need to restart the kernel to use updated packages.\n"
     ]
    },
    {
     "name": "stderr",
     "output_type": "stream",
     "text": [
      "WARNING: Ignoring invalid distribution -rpcio (c:\\users\\maple\\appdata\\roaming\\python\\python38\\site-packages)\n",
      "WARNING: Ignoring invalid distribution -rpcio (c:\\users\\maple\\appdata\\roaming\\python\\python38\\site-packages)\n",
      "WARNING: Ignoring invalid distribution -rpcio (c:\\users\\maple\\appdata\\roaming\\python\\python38\\site-packages)\n",
      "WARNING: Ignoring invalid distribution -rpcio (c:\\users\\maple\\appdata\\roaming\\python\\python38\\site-packages)\n",
      "WARNING: Ignoring invalid distribution -rpcio (c:\\users\\maple\\appdata\\roaming\\python\\python38\\site-packages)\n",
      "WARNING: Ignoring invalid distribution -rpcio (c:\\users\\maple\\appdata\\roaming\\python\\python38\\site-packages)\n"
     ]
    },
    {
     "name": "stdout",
     "output_type": "stream",
     "text": [
      "Collecting scipy\n",
      "  Downloading scipy-1.10.1-cp38-cp38-win_amd64.whl.metadata (58 kB)\n",
      "     ---------------------------------------- 0.0/59.0 kB ? eta -:--:--\n",
      "     ---------------------------------------- 59.0/59.0 kB 1.6 MB/s eta 0:00:00\n",
      "Requirement already satisfied: numpy<1.27.0,>=1.19.5 in c:\\users\\maple\\anaconda3\\envs\\comp_459\\lib\\site-packages (from scipy) (1.24.3)\n",
      "Downloading scipy-1.10.1-cp38-cp38-win_amd64.whl (42.2 MB)\n",
      "   ---------------------------------------- 0.0/42.2 MB ? eta -:--:--\n",
      "   - -------------------------------------- 1.1/42.2 MB 23.7 MB/s eta 0:00:02\n",
      "   -- ------------------------------------- 2.2/42.2 MB 23.5 MB/s eta 0:00:02\n",
      "   --- ------------------------------------ 3.4/42.2 MB 23.8 MB/s eta 0:00:02\n",
      "   ---- ----------------------------------- 5.0/42.2 MB 26.8 MB/s eta 0:00:02\n",
      "   ---- ----------------------------------- 5.3/42.2 MB 21.0 MB/s eta 0:00:02\n",
      "   ------ --------------------------------- 6.8/42.2 MB 22.8 MB/s eta 0:00:02\n",
      "   ------- -------------------------------- 8.2/42.2 MB 23.8 MB/s eta 0:00:02\n",
      "   --------- ------------------------------ 9.7/42.2 MB 23.9 MB/s eta 0:00:02\n",
      "   ---------- ----------------------------- 11.2/42.2 MB 24.2 MB/s eta 0:00:02\n",
      "   ------------ --------------------------- 13.0/42.2 MB 25.2 MB/s eta 0:00:02\n",
      "   ------------- -------------------------- 14.1/42.2 MB 25.1 MB/s eta 0:00:02\n",
      "   -------------- ------------------------- 15.7/42.2 MB 29.7 MB/s eta 0:00:01\n",
      "   ---------------- ----------------------- 17.8/42.2 MB 31.2 MB/s eta 0:00:01\n",
      "   ------------------ --------------------- 19.1/42.2 MB 29.7 MB/s eta 0:00:01\n",
      "   -------------------- ------------------- 21.2/42.2 MB 32.7 MB/s eta 0:00:01\n",
      "   -------------------- ------------------- 21.9/42.2 MB 31.2 MB/s eta 0:00:01\n",
      "   ---------------------- ----------------- 23.8/42.2 MB 28.4 MB/s eta 0:00:01\n",
      "   ----------------------- ---------------- 24.8/42.2 MB 29.7 MB/s eta 0:00:01\n",
      "   ------------------------ --------------- 26.1/42.2 MB 29.7 MB/s eta 0:00:01\n",
      "   -------------------------- ------------- 27.8/42.2 MB 28.5 MB/s eta 0:00:01\n",
      "   --------------------------- ------------ 29.3/42.2 MB 28.5 MB/s eta 0:00:01\n",
      "   ----------------------------- ---------- 30.9/42.2 MB 27.3 MB/s eta 0:00:01\n",
      "   ------------------------------ --------- 32.3/42.2 MB 29.7 MB/s eta 0:00:01\n",
      "   -------------------------------- ------- 34.0/42.2 MB 29.7 MB/s eta 0:00:01\n",
      "   --------------------------------- ------ 35.8/42.2 MB 29.7 MB/s eta 0:00:01\n",
      "   ----------------------------------- ---- 37.0/42.2 MB 29.7 MB/s eta 0:00:01\n",
      "   ------------------------------------ --- 38.5/42.2 MB 31.2 MB/s eta 0:00:01\n",
      "   ------------------------------------- -- 39.8/42.2 MB 31.2 MB/s eta 0:00:01\n",
      "   -------------------------------------- - 40.8/42.2 MB 28.4 MB/s eta 0:00:01\n",
      "   ---------------------------------------  42.1/42.2 MB 29.7 MB/s eta 0:00:01\n",
      "   ---------------------------------------  42.2/42.2 MB 28.5 MB/s eta 0:00:01\n",
      "   ---------------------------------------  42.2/42.2 MB 28.5 MB/s eta 0:00:01\n",
      "   ---------------------------------------  42.2/42.2 MB 28.5 MB/s eta 0:00:01\n",
      "   ---------------------------------------  42.2/42.2 MB 28.5 MB/s eta 0:00:01\n",
      "   ---------------------------------------- 42.2/42.2 MB 18.7 MB/s eta 0:00:00\n",
      "Installing collected packages: scipy\n",
      "Successfully installed scipy-1.10.1\n",
      "Note: you may need to restart the kernel to use updated packages.\n"
     ]
    },
    {
     "name": "stderr",
     "output_type": "stream",
     "text": [
      "WARNING: Ignoring invalid distribution -rpcio (c:\\users\\maple\\appdata\\roaming\\python\\python38\\site-packages)\n",
      "WARNING: Ignoring invalid distribution -rpcio (c:\\users\\maple\\appdata\\roaming\\python\\python38\\site-packages)\n",
      "WARNING: Ignoring invalid distribution -rpcio (c:\\users\\maple\\appdata\\roaming\\python\\python38\\site-packages)\n",
      "WARNING: Ignoring invalid distribution -rpcio (c:\\users\\maple\\appdata\\roaming\\python\\python38\\site-packages)\n",
      "WARNING: Ignoring invalid distribution -rpcio (c:\\users\\maple\\appdata\\roaming\\python\\python38\\site-packages)\n",
      "WARNING: Ignoring invalid distribution -rpcio (c:\\users\\maple\\appdata\\roaming\\python\\python38\\site-packages)\n"
     ]
    },
    {
     "name": "stdout",
     "output_type": "stream",
     "text": [
      "Requirement already satisfied: h5py in c:\\users\\maple\\appdata\\roaming\\python\\python38\\site-packages (3.1.0)Note: you may need to restart the kernel to use updated packages.\n",
      "\n",
      "Requirement already satisfied: numpy>=1.17.5 in c:\\users\\maple\\anaconda3\\envs\\comp_459\\lib\\site-packages (from h5py) (1.24.3)\n"
     ]
    },
    {
     "name": "stderr",
     "output_type": "stream",
     "text": [
      "WARNING: Ignoring invalid distribution -rpcio (c:\\users\\maple\\appdata\\roaming\\python\\python38\\site-packages)\n",
      "WARNING: Ignoring invalid distribution -rpcio (c:\\users\\maple\\appdata\\roaming\\python\\python38\\site-packages)\n",
      "WARNING: Ignoring invalid distribution -rpcio (c:\\users\\maple\\appdata\\roaming\\python\\python38\\site-packages)\n",
      "WARNING: Ignoring invalid distribution -rpcio (c:\\users\\maple\\appdata\\roaming\\python\\python38\\site-packages)\n",
      "WARNING: Ignoring invalid distribution -rpcio (c:\\users\\maple\\appdata\\roaming\\python\\python38\\site-packages)\n",
      "WARNING: Ignoring invalid distribution -rpcio (c:\\users\\maple\\appdata\\roaming\\python\\python38\\site-packages)\n"
     ]
    }
   ],
   "source": [
    "%pip install ipython\n",
    "%pip install scipy\n",
    "%pip install h5py"
   ]
  },
  {
   "cell_type": "markdown",
   "metadata": {},
   "source": [
    "### 2.2 Dependencies for maskrcnn_benchmark coco api "
   ]
  },
  {
   "cell_type": "code",
   "execution_count": 2,
   "metadata": {},
   "outputs": [
    {
     "name": "stdout",
     "output_type": "stream",
     "text": [
      "Collecting ninja\n",
      "  Using cached ninja-1.11.1.1-py2.py3-none-win_amd64.whl.metadata (5.4 kB)\n",
      "Collecting yacs\n",
      "  Using cached yacs-0.1.8-py3-none-any.whl.metadata (639 bytes)\n",
      "Collecting cython\n",
      "  Downloading Cython-3.0.9-cp38-cp38-win_amd64.whl.metadata (3.2 kB)\n",
      "Collecting matplotlib\n",
      "  Downloading matplotlib-3.7.5-cp38-cp38-win_amd64.whl.metadata (5.8 kB)\n",
      "Collecting tqdm\n",
      "  Using cached tqdm-4.66.2-py3-none-any.whl.metadata (57 kB)\n",
      "Collecting opencv-python\n",
      "  Using cached opencv_python-4.9.0.80-cp37-abi3-win_amd64.whl.metadata (20 kB)\n",
      "Collecting overrides\n",
      "  Using cached overrides-7.7.0-py3-none-any.whl.metadata (5.8 kB)\n",
      "Requirement already satisfied: PyYAML in c:\\users\\maple\\anaconda3\\envs\\comp_459\\lib\\site-packages (from yacs) (6.0.1)\n",
      "Collecting contourpy>=1.0.1 (from matplotlib)\n",
      "  Downloading contourpy-1.1.1-cp38-cp38-win_amd64.whl.metadata (5.9 kB)\n",
      "Collecting cycler>=0.10 (from matplotlib)\n",
      "  Using cached cycler-0.12.1-py3-none-any.whl.metadata (3.8 kB)\n",
      "Collecting fonttools>=4.22.0 (from matplotlib)\n",
      "  Downloading fonttools-4.50.0-cp38-cp38-win_amd64.whl.metadata (162 kB)\n",
      "     ---------------------------------------- 0.0/162.6 kB ? eta -:--:--\n",
      "     -------------------------------------- 162.6/162.6 kB 9.5 MB/s eta 0:00:00\n",
      "Collecting kiwisolver>=1.0.1 (from matplotlib)\n",
      "  Downloading kiwisolver-1.4.5-cp38-cp38-win_amd64.whl.metadata (6.5 kB)\n",
      "Requirement already satisfied: numpy<2,>=1.20 in c:\\users\\maple\\anaconda3\\envs\\comp_459\\lib\\site-packages (from matplotlib) (1.24.3)\n",
      "Requirement already satisfied: packaging>=20.0 in c:\\users\\maple\\anaconda3\\envs\\comp_459\\lib\\site-packages (from matplotlib) (24.0)\n",
      "Requirement already satisfied: pillow>=6.2.0 in c:\\users\\maple\\anaconda3\\envs\\comp_459\\lib\\site-packages (from matplotlib) (10.2.0)\n",
      "Collecting pyparsing>=2.3.1 (from matplotlib)\n",
      "  Using cached pyparsing-3.1.2-py3-none-any.whl.metadata (5.1 kB)\n",
      "Requirement already satisfied: python-dateutil>=2.7 in c:\\users\\maple\\anaconda3\\envs\\comp_459\\lib\\site-packages (from matplotlib) (2.9.0)\n",
      "Collecting importlib-resources>=3.2.0 (from matplotlib)\n",
      "  Downloading importlib_resources-6.4.0-py3-none-any.whl.metadata (3.9 kB)\n",
      "Requirement already satisfied: colorama in c:\\users\\maple\\appdata\\roaming\\python\\python38\\site-packages (from tqdm) (0.4.4)\n",
      "Requirement already satisfied: zipp>=3.1.0 in c:\\users\\maple\\anaconda3\\envs\\comp_459\\lib\\site-packages (from importlib-resources>=3.2.0->matplotlib) (3.17.0)\n",
      "Requirement already satisfied: six>=1.5 in c:\\users\\maple\\anaconda3\\envs\\comp_459\\lib\\site-packages (from python-dateutil>=2.7->matplotlib) (1.16.0)\n",
      "Using cached ninja-1.11.1.1-py2.py3-none-win_amd64.whl (312 kB)\n",
      "Using cached yacs-0.1.8-py3-none-any.whl (14 kB)\n",
      "Downloading Cython-3.0.9-cp38-cp38-win_amd64.whl (2.8 MB)\n",
      "   ---------------------------------------- 0.0/2.8 MB ? eta -:--:--\n",
      "   ---------------- ----------------------- 1.2/2.8 MB 37.3 MB/s eta 0:00:01\n",
      "   ----------------------------------- ---- 2.5/2.8 MB 31.8 MB/s eta 0:00:01\n",
      "   ---------------------------------------- 2.8/2.8 MB 22.3 MB/s eta 0:00:00\n",
      "Downloading matplotlib-3.7.5-cp38-cp38-win_amd64.whl (7.5 MB)\n",
      "   ---------------------------------------- 0.0/7.5 MB ? eta -:--:--\n",
      "   --------- ------------------------------ 1.8/7.5 MB 38.8 MB/s eta 0:00:01\n",
      "   -------------------- ------------------- 3.8/7.5 MB 40.2 MB/s eta 0:00:01\n",
      "   ----------------------------- ---------- 5.6/7.5 MB 35.6 MB/s eta 0:00:01\n",
      "   ----------------------------------- ---- 6.7/7.5 MB 35.5 MB/s eta 0:00:01\n",
      "   ---------------------------------------  7.5/7.5 MB 34.2 MB/s eta 0:00:01\n",
      "   ---------------------------------------- 7.5/7.5 MB 28.2 MB/s eta 0:00:00\n",
      "Using cached tqdm-4.66.2-py3-none-any.whl (78 kB)\n",
      "Using cached opencv_python-4.9.0.80-cp37-abi3-win_amd64.whl (38.6 MB)\n",
      "Using cached overrides-7.7.0-py3-none-any.whl (17 kB)\n",
      "Downloading contourpy-1.1.1-cp38-cp38-win_amd64.whl (477 kB)\n",
      "   ---------------------------------------- 0.0/477.9 kB ? eta -:--:--\n",
      "   --------------------------------------- 477.9/477.9 kB 31.2 MB/s eta 0:00:00\n",
      "Using cached cycler-0.12.1-py3-none-any.whl (8.3 kB)\n",
      "Downloading fonttools-4.50.0-cp38-cp38-win_amd64.whl (1.5 MB)\n",
      "   ---------------------------------------- 0.0/1.5 MB ? eta -:--:--\n",
      "   ---------------------------------------  1.5/1.5 MB 48.2 MB/s eta 0:00:01\n",
      "   ---------------------------------------- 1.5/1.5 MB 31.9 MB/s eta 0:00:00\n",
      "Downloading importlib_resources-6.4.0-py3-none-any.whl (38 kB)\n",
      "Downloading kiwisolver-1.4.5-cp38-cp38-win_amd64.whl (56 kB)\n",
      "   ---------------------------------------- 0.0/56.2 kB ? eta -:--:--\n",
      "   ---------------------------------------- 56.2/56.2 kB 3.1 MB/s eta 0:00:00\n",
      "Using cached pyparsing-3.1.2-py3-none-any.whl (103 kB)\n",
      "Installing collected packages: ninja, yacs, tqdm, pyparsing, overrides, opencv-python, kiwisolver, importlib-resources, fonttools, cython, cycler, contourpy, matplotlib\n",
      "Successfully installed contourpy-1.1.1 cycler-0.12.1 cython-3.0.9 fonttools-4.50.0 importlib-resources-6.4.0 kiwisolver-1.4.5 matplotlib-3.7.5 ninja-1.11.1.1 opencv-python-4.9.0.80 overrides-7.7.0 pyparsing-3.1.2 tqdm-4.66.2 yacs-0.1.8\n"
     ]
    },
    {
     "name": "stderr",
     "output_type": "stream",
     "text": [
      "WARNING: Ignoring invalid distribution -rpcio (c:\\users\\maple\\appdata\\roaming\\python\\python38\\site-packages)\n",
      "WARNING: Ignoring invalid distribution -rpcio (c:\\users\\maple\\appdata\\roaming\\python\\python38\\site-packages)\n",
      "WARNING: Ignoring invalid distribution -rpcio (c:\\users\\maple\\appdata\\roaming\\python\\python38\\site-packages)\n",
      "WARNING: Ignoring invalid distribution -rpcio (c:\\users\\maple\\appdata\\roaming\\python\\python38\\site-packages)\n",
      "WARNING: Ignoring invalid distribution -rpcio (c:\\users\\maple\\appdata\\roaming\\python\\python38\\site-packages)\n",
      "WARNING: Ignoring invalid distribution -rpcio (c:\\users\\maple\\appdata\\roaming\\python\\python38\\site-packages)\n"
     ]
    }
   ],
   "source": [
    "!pip install ninja yacs cython matplotlib tqdm opencv-python overrides"
   ]
  },
  {
   "cell_type": "markdown",
   "metadata": {},
   "source": [
    "### 2.3 PyTorch \n",
    "\n",
    "Please install the correct PyTorch version for your GPU. If your GPU does not support CUDA, then you will have to install CPU version of PyTorch.\n",
    "\n",
    "Requirements:\n",
    "- PyTorch >= 1.2.0\n",
    "- torchvision >= 0.4.0"
   ]
  },
  {
   "cell_type": "code",
   "execution_count": 7,
   "metadata": {},
   "outputs": [
    {
     "name": "stdout",
     "output_type": "stream",
     "text": [
      "Wed Mar 20 22:42:49 2024       \n",
      "+---------------------------------------------------------------------------------------+\n",
      "| NVIDIA-SMI 546.09                 Driver Version: 546.09       CUDA Version: 12.3     |\n",
      "|-----------------------------------------+----------------------+----------------------+\n",
      "| GPU  Name                     TCC/WDDM  | Bus-Id        Disp.A | Volatile Uncorr. ECC |\n",
      "| Fan  Temp   Perf          Pwr:Usage/Cap |         Memory-Usage | GPU-Util  Compute M. |\n",
      "|                                         |                      |               MIG M. |\n",
      "|=========================================+======================+======================|\n",
      "|   0  NVIDIA GeForce GTX 1650 Ti   WDDM  | 00000000:01:00.0 Off |                  N/A |\n",
      "| N/A   76C    P8               2W /  50W |    221MiB /  4096MiB |      0%      Default |\n",
      "|                                         |                      |                  N/A |\n",
      "+-----------------------------------------+----------------------+----------------------+\n",
      "                                                                                         \n",
      "+---------------------------------------------------------------------------------------+\n",
      "| Processes:                                                                            |\n",
      "|  GPU   GI   CI        PID   Type   Process name                            GPU Memory |\n",
      "|        ID   ID                                                             Usage      |\n",
      "|=======================================================================================|\n",
      "|    0   N/A  N/A     16528    C+G   ...Brave-Browser\\Application\\brave.exe    N/A      |\n",
      "+---------------------------------------------------------------------------------------+\n"
     ]
    }
   ],
   "source": [
    "# 1. Verify the most recent version of CUDA your GPU supports. \n",
    "# If this command does not work, you may not have an NVIDIA GPU with CUDA support, in which case you can download CPU version of PyTorch.\n",
    "!nvidia-smi"
   ]
  },
  {
   "cell_type": "markdown",
   "metadata": {},
   "source": [
    "##### 2. Install PyTorch and torchvision following the process on the PyTorch website (https://pytorch.org/get-started/locally/).\n",
    "\n",
    "Example on your terminal with the correct conda environment activated:\n",
    "\n",
    "`conda install pytorch torchvision torchaudio pytorch-cuda=11.8 -c pytorch -c nvidia`"
   ]
  },
  {
   "cell_type": "code",
   "execution_count": 3,
   "metadata": {},
   "outputs": [
    {
     "name": "stdout",
     "output_type": "stream",
     "text": [
      "Torch version: 2.2.1\n",
      "CUDA version: 11.8\n"
     ]
    }
   ],
   "source": [
    "# 3. Verify torch and cuda version\n",
    "import torch\n",
    "print(f\"Torch version: {torch.__version__}\")\n",
    "print(f\"CUDA version: {torch.version.cuda}\")"
   ]
  },
  {
   "cell_type": "markdown",
   "metadata": {},
   "source": [
    "### 2.4 Pycocotools\n",
    "The git repository is already cloned `dependencies/cocoapi`. You just need to run the `setup.py` in `dependencies/cocoapi/PythonAPI`. There is a separate installation for Windowsl for some reason, coco devs do not want to support Windows."
   ]
  },
  {
   "cell_type": "code",
   "execution_count": 1,
   "metadata": {},
   "outputs": [
    {
     "name": "stdout",
     "output_type": "stream",
     "text": [
      "running build_ext\n"
     ]
    },
    {
     "name": "stderr",
     "output_type": "stream",
     "text": [
      "Traceback (most recent call last):\n",
      "  File \"dependencies/cocoapi/PythonAPI/setup.py\", line 16, in <module>\n",
      "    setup(\n",
      "  File \"c:\\Users\\maple\\anaconda3\\envs\\comp_459\\lib\\site-packages\\setuptools\\__init__.py\", line 103, in setup\n",
      "    return distutils.core.setup(**attrs)\n",
      "  File \"c:\\Users\\maple\\anaconda3\\envs\\comp_459\\lib\\site-packages\\setuptools\\_distutils\\core.py\", line 185, in setup\n",
      "    return run_commands(dist)\n",
      "  File \"c:\\Users\\maple\\anaconda3\\envs\\comp_459\\lib\\site-packages\\setuptools\\_distutils\\core.py\", line 201, in run_commands\n",
      "    dist.run_commands()\n",
      "  File \"c:\\Users\\maple\\anaconda3\\envs\\comp_459\\lib\\site-packages\\setuptools\\_distutils\\dist.py\", line 969, in run_commands\n",
      "    self.run_command(cmd)\n",
      "  File \"c:\\Users\\maple\\anaconda3\\envs\\comp_459\\lib\\site-packages\\setuptools\\dist.py\", line 989, in run_command\n",
      "    super().run_command(command)\n",
      "  File \"c:\\Users\\maple\\anaconda3\\envs\\comp_459\\lib\\site-packages\\setuptools\\_distutils\\dist.py\", line 988, in run_command\n",
      "    cmd_obj.run()\n",
      "  File \"c:\\Users\\maple\\anaconda3\\envs\\comp_459\\lib\\site-packages\\setuptools\\command\\build_ext.py\", line 88, in run\n",
      "    _build_ext.run(self)\n",
      "  File \"c:\\Users\\maple\\anaconda3\\envs\\comp_459\\lib\\site-packages\\setuptools\\_distutils\\command\\build_ext.py\", line 345, in run\n",
      "    self.build_extensions()\n",
      "  File \"c:\\Users\\maple\\anaconda3\\envs\\comp_459\\lib\\site-packages\\setuptools\\_distutils\\command\\build_ext.py\", line 467, in build_extensions\n",
      "    self._build_extensions_serial()\n",
      "  File \"c:\\Users\\maple\\anaconda3\\envs\\comp_459\\lib\\site-packages\\setuptools\\_distutils\\command\\build_ext.py\", line 493, in _build_extensions_serial\n",
      "    self.build_extension(ext)\n",
      "  File \"c:\\Users\\maple\\anaconda3\\envs\\comp_459\\lib\\site-packages\\setuptools\\command\\build_ext.py\", line 249, in build_extension\n",
      "    _build_ext.build_extension(self, ext)\n",
      "  File \"c:\\Users\\maple\\anaconda3\\envs\\comp_459\\lib\\site-packages\\Cython\\Distutils\\build_ext.py\", line 130, in build_extension\n",
      "    new_ext = cythonize(\n",
      "  File \"c:\\Users\\maple\\anaconda3\\envs\\comp_459\\lib\\site-packages\\Cython\\Build\\Dependencies.py\", line 1010, in cythonize\n",
      "    module_list, module_metadata = create_extension_list(\n",
      "  File \"c:\\Users\\maple\\anaconda3\\envs\\comp_459\\lib\\site-packages\\Cython\\Build\\Dependencies.py\", line 845, in create_extension_list\n",
      "    for file in nonempty(sorted(extended_iglob(filepattern)), \"'%s' doesn't match any files\" % filepattern):\n",
      "  File \"c:\\Users\\maple\\anaconda3\\envs\\comp_459\\lib\\site-packages\\Cython\\Build\\Dependencies.py\", line 117, in nonempty\n",
      "    raise ValueError(error_msg)\n",
      "ValueError: 'pycocotools/_mask.pyx' doesn't match any files\n"
     ]
    }
   ],
   "source": [
    "!python dependencies/cocoapi/PythonAPI/setup.py build_ext install\n",
    "\n",
    "# For Windows:\n",
    "# !pip install git+https://github.com/philferriere/cocoapi.git#subdirectory=PythonAPI "
   ]
  },
  {
   "cell_type": "markdown",
   "metadata": {},
   "source": [
    "### 2.5 Apex\n",
    "\n",
    "The git repository is already cloned in `dependencies/apex`. You just need to run the `setup.py` in `dependencies/apex`:"
   ]
  },
  {
   "cell_type": "code",
   "execution_count": null,
   "metadata": {},
   "outputs": [],
   "source": [
    "!python dependencies/apex/setup.py install --cuda_ext --cpp_ext"
   ]
  },
  {
   "cell_type": "markdown",
   "metadata": {},
   "source": [
    "### 2.6 Install and compile the Scene-Graph Generation Model"
   ]
  },
  {
   "cell_type": "code",
   "execution_count": null,
   "metadata": {},
   "outputs": [],
   "source": [
    "!python scene-graph-benchmark/setup.py build develop"
   ]
  },
  {
   "cell_type": "markdown",
   "metadata": {},
   "source": []
  }
 ],
 "metadata": {
  "kernelspec": {
   "display_name": "comp_459",
   "language": "python",
   "name": "python3"
  },
  "language_info": {
   "codemirror_mode": {
    "name": "ipython",
    "version": 3
   },
   "file_extension": ".py",
   "mimetype": "text/x-python",
   "name": "python",
   "nbconvert_exporter": "python",
   "pygments_lexer": "ipython3",
   "version": "3.8.19"
  }
 },
 "nbformat": 4,
 "nbformat_minor": 2
}

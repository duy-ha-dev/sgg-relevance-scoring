{
 "cells": [
  {
   "cell_type": "markdown",
   "metadata": {},
   "source": [
    "# Setup Instructions\n",
    "\n",
    "**Requirements**\n",
    "In general, the requirements are similar to Facebook's `maskrcnn-benchmark`:\n",
    "\n",
    "- Python <= 3.8\n",
    "- PyTorch >= 1.2 \n",
    "- torchvision >= 0.4\n",
    "- cocoapi\n",
    "- yacs\n",
    "- matplotlib\n",
    "- GCC >= 4.9\n",
    "- OpenCV\n"
   ]
  },
  {
   "cell_type": "code",
   "execution_count": 1,
   "metadata": {},
   "outputs": [],
   "source": [
    "# Run this setup cell every time this notebook is open or the runtime is reset.\n",
    "import os\n",
    "\n",
    "# Set this to True if you are running this notebook in Google Colab\n",
    "colab = False\n",
    "\n",
    "if colab:\n",
    "    # Mount the google drive to access the data\n",
    "    from google.colab import drive\n",
    "    drive.mount('/content/drive', force_remount=True)\n",
    "    folder_path = \"/content/drive/Shared drives/COMP 459/\" # Path to where you want to store the repository\n",
    "    %cd \"{folder_path}\"\n",
    "\n",
    "    if os.path.isdir(\"sgg-relevance-scoring\"):\n",
    "        %cd sgg-relevance-scoring\n",
    "        ! git pull\n",
    "    else:\n",
    "        ! git clone https://github.com/duy-ha-dev/sgg-relevance-scoring.git\n",
    "        %cd sgg-relevance-scoring\n",
    "    "
   ]
  },
  {
   "cell_type": "markdown",
   "metadata": {},
   "source": [
    "## 1. Creating Conda Environment for Python 3.8 (Not Required if Using Colab)\n",
    "\n",
    "The conda environment that you are planning on using for this setup should be the one running on this notebook. If this is the case, please proceed to the next step; otherwise, in your terminal, you can execute the following commands to set up your environment. **This installation notebook assumes you have a fresh new environment to avoid dependency issues**\n",
    "\n",
    "`$ conda create --name sgg_relevance_scoring python=3.8`\n",
    "\n",
    "To activate this new environment:\n",
    "\n",
    "`$ conda activate sgg_relevance_scoring`\n",
    "\n",
    "Make sure to deactivate the environment when you are done using it:\n",
    "\n",
    "`$ conda deactivate`"
   ]
  },
  {
   "cell_type": "code",
   "execution_count": 1,
   "metadata": {},
   "outputs": [
    {
     "name": "stdout",
     "output_type": "stream",
     "text": [
      "\n",
      "     active environment : ssg_relevance_scoring\n",
      "    active env location : C:\\Users\\maple\\anaconda3\\envs\\ssg_relevance_scoring\n",
      "            shell level : 1\n",
      "       user config file : C:\\Users\\maple\\.condarc\n",
      " populated config files : C:\\Users\\maple\\.condarc\n",
      "          conda version : 23.3.1\n",
      "    conda-build version : 3.23.1\n",
      "         python version : 3.9.15.final.0\n",
      "       virtual packages : __archspec=1=x86_64\n",
      "                          __cuda=12.3=0\n",
      "                          __win=0=0\n",
      "       base environment : C:\\Users\\maple\\anaconda3  (writable)\n",
      "      conda av data dir : C:\\Users\\maple\\anaconda3\\etc\\conda\n",
      "  conda av metadata url : None\n",
      "           channel URLs : https://conda.anaconda.org/menpo/win-64\n",
      "                          https://conda.anaconda.org/menpo/noarch\n",
      "                          https://conda.anaconda.org/bioconda/win-64\n",
      "                          https://conda.anaconda.org/bioconda/noarch\n",
      "                          https://conda.anaconda.org/r/win-64\n",
      "                          https://conda.anaconda.org/r/noarch\n",
      "                          https://repo.anaconda.com/pkgs/main/win-64\n",
      "                          https://repo.anaconda.com/pkgs/main/noarch\n",
      "                          https://repo.anaconda.com/pkgs/r/win-64\n",
      "                          https://repo.anaconda.com/pkgs/r/noarch\n",
      "                          https://repo.anaconda.com/pkgs/msys2/win-64\n",
      "                          https://repo.anaconda.com/pkgs/msys2/noarch\n",
      "                          https://conda.anaconda.org/conda-forge/win-64\n",
      "                          https://conda.anaconda.org/conda-forge/noarch\n",
      "          package cache : C:\\Users\\maple\\anaconda3\\pkgs\n",
      "                          C:\\Users\\maple\\.conda\\pkgs\n",
      "                          C:\\Users\\maple\\AppData\\Local\\conda\\conda\\pkgs\n",
      "       envs directories : C:\\Users\\maple\\anaconda3\\envs\n",
      "                          C:\\Users\\maple\\.conda\\envs\n",
      "                          C:\\Users\\maple\\AppData\\Local\\conda\\conda\\envs\n",
      "               platform : win-64\n",
      "             user-agent : conda/23.3.1 requests/2.28.1 CPython/3.9.15 Windows/10 Windows/10.0.22631 aau/0.4.3 c/W8_6XiGVq7Nh9gEcwm8fww s/x2BbKv6lLZpfu-f7Mii9Cg e/UeRdSYrJiLelxyGib1_Xxw\n",
      "          administrator : False\n",
      "             netrc file : None\n",
      "           offline mode : False\n",
      "\n"
     ]
    }
   ],
   "source": [
    "if not colab:\n",
    "    # Confirm that the notebook is running in the correct environment\n",
    "    !conda info\n",
    "\n",
    "    # Also confirm that the environment is running on Python 3.8\n",
    "    !python --version"
   ]
  },
  {
   "cell_type": "markdown",
   "metadata": {},
   "source": [
    "## 2. Installing Dependencies"
   ]
  },
  {
   "cell_type": "markdown",
   "metadata": {},
   "source": [
    "### 2.1 Required Python Packages"
   ]
  },
  {
   "cell_type": "code",
   "execution_count": 1,
   "metadata": {},
   "outputs": [
    {
     "name": "stdout",
     "output_type": "stream",
     "text": [
      "Requirement already satisfied: ipython in c:\\users\\maple\\anaconda3\\envs\\comp_459\\lib\\site-packages (8.22.2)\n",
      "Requirement already satisfied: decorator in c:\\users\\maple\\anaconda3\\envs\\comp_459\\lib\\site-packages (from ipython) (5.1.1)\n",
      "Requirement already satisfied: jedi>=0.16 in c:\\users\\maple\\anaconda3\\envs\\comp_459\\lib\\site-packages (from ipython) (0.19.1)\n",
      "Requirement already satisfied: matplotlib-inline in c:\\users\\maple\\anaconda3\\envs\\comp_459\\lib\\site-packages (from ipython) (0.1.6)\n",
      "Requirement already satisfied: prompt-toolkit<3.1.0,>=3.0.41 in c:\\users\\maple\\anaconda3\\envs\\comp_459\\lib\\site-packages (from ipython) (3.0.42)\n",
      "Requirement already satisfied: pygments>=2.4.0 in c:\\users\\maple\\anaconda3\\envs\\comp_459\\lib\\site-packages (from ipython) (2.17.2)\n",
      "Requirement already satisfied: stack-data in c:\\users\\maple\\anaconda3\\envs\\comp_459\\lib\\site-packages (from ipython) (0.6.2)\n",
      "Requirement already satisfied: traitlets>=5.13.0 in c:\\users\\maple\\anaconda3\\envs\\comp_459\\lib\\site-packages (from ipython) (5.14.2)\n",
      "Requirement already satisfied: exceptiongroup in c:\\users\\maple\\anaconda3\\envs\\comp_459\\lib\\site-packages (from ipython) (1.2.0)\n",
      "Requirement already satisfied: colorama in c:\\users\\maple\\anaconda3\\envs\\comp_459\\lib\\site-packages (from ipython) (0.4.6)\n",
      "Requirement already satisfied: parso<0.9.0,>=0.8.3 in c:\\users\\maple\\anaconda3\\envs\\comp_459\\lib\\site-packages (from jedi>=0.16->ipython) (0.8.3)\n",
      "Requirement already satisfied: wcwidth in c:\\users\\maple\\anaconda3\\envs\\comp_459\\lib\\site-packages (from prompt-toolkit<3.1.0,>=3.0.41->ipython) (0.2.13)\n",
      "Requirement already satisfied: executing>=1.2.0 in c:\\users\\maple\\anaconda3\\envs\\comp_459\\lib\\site-packages (from stack-data->ipython) (2.0.1)\n",
      "Requirement already satisfied: asttokens>=2.1.0 in c:\\users\\maple\\anaconda3\\envs\\comp_459\\lib\\site-packages (from stack-data->ipython) (2.4.1)\n",
      "Requirement already satisfied: pure-eval in c:\\users\\maple\\anaconda3\\envs\\comp_459\\lib\\site-packages (from stack-data->ipython) (0.2.2)\n",
      "Requirement already satisfied: six>=1.12.0 in c:\\users\\maple\\anaconda3\\envs\\comp_459\\lib\\site-packages (from asttokens>=2.1.0->stack-data->ipython) (1.16.0)\n",
      "Note: you may need to restart the kernel to use updated packages.\n",
      "Requirement already satisfied: scipy in c:\\users\\maple\\anaconda3\\envs\\comp_459\\lib\\site-packages (1.12.0)\n",
      "Requirement already satisfied: numpy<1.29.0,>=1.22.4 in c:\\users\\maple\\anaconda3\\envs\\comp_459\\lib\\site-packages (from scipy) (1.26.4)\n",
      "Note: you may need to restart the kernel to use updated packages.\n",
      "Requirement already satisfied: h5py in c:\\users\\maple\\anaconda3\\envs\\comp_459\\lib\\site-packages (3.10.0)\n",
      "Requirement already satisfied: numpy>=1.17.3 in c:\\users\\maple\\anaconda3\\envs\\comp_459\\lib\\site-packages (from h5py) (1.26.4)\n",
      "Note: you may need to restart the kernel to use updated packages.\n"
     ]
    }
   ],
   "source": [
    "!python -m pip install ipython\n",
    "!python -m pip install scipy\n",
    "!python -m pip install h5py\n",
    "!python -m pip install ninja yacs cython matplotlib tqdm opencv-python overrides\n",
    "!pip install --upgrade setuptools"
   ]
  },
  {
   "cell_type": "markdown",
   "metadata": {},
   "source": [
    "### 2.2 Dependencies for maskrcnn_benchmark coco api "
   ]
  },
  {
   "cell_type": "code",
   "execution_count": 2,
   "metadata": {},
   "outputs": [
    {
     "name": "stdout",
     "output_type": "stream",
     "text": [
      "Requirement already satisfied: ninja in c:\\users\\maple\\anaconda3\\envs\\comp_459\\lib\\site-packages (1.11.1.1)\n",
      "Requirement already satisfied: yacs in c:\\users\\maple\\anaconda3\\envs\\comp_459\\lib\\site-packages (0.1.8)\n",
      "Requirement already satisfied: cython in c:\\users\\maple\\anaconda3\\envs\\comp_459\\lib\\site-packages (3.0.9)\n",
      "Requirement already satisfied: matplotlib in c:\\users\\maple\\anaconda3\\envs\\comp_459\\lib\\site-packages (3.8.3)\n",
      "Requirement already satisfied: tqdm in c:\\users\\maple\\anaconda3\\envs\\comp_459\\lib\\site-packages (4.66.2)\n",
      "Requirement already satisfied: opencv-python in c:\\users\\maple\\anaconda3\\envs\\comp_459\\lib\\site-packages (4.9.0.80)\n",
      "Requirement already satisfied: overrides in c:\\users\\maple\\anaconda3\\envs\\comp_459\\lib\\site-packages (7.7.0)\n",
      "Requirement already satisfied: PyYAML in c:\\users\\maple\\anaconda3\\envs\\comp_459\\lib\\site-packages (from yacs) (6.0.1)\n",
      "Requirement already satisfied: contourpy>=1.0.1 in c:\\users\\maple\\anaconda3\\envs\\comp_459\\lib\\site-packages (from matplotlib) (1.2.0)\n",
      "Requirement already satisfied: cycler>=0.10 in c:\\users\\maple\\anaconda3\\envs\\comp_459\\lib\\site-packages (from matplotlib) (0.12.1)\n",
      "Requirement already satisfied: fonttools>=4.22.0 in c:\\users\\maple\\anaconda3\\envs\\comp_459\\lib\\site-packages (from matplotlib) (4.50.0)\n",
      "Requirement already satisfied: kiwisolver>=1.3.1 in c:\\users\\maple\\anaconda3\\envs\\comp_459\\lib\\site-packages (from matplotlib) (1.4.5)\n",
      "Requirement already satisfied: numpy<2,>=1.21 in c:\\users\\maple\\anaconda3\\envs\\comp_459\\lib\\site-packages (from matplotlib) (1.26.4)\n",
      "Requirement already satisfied: packaging>=20.0 in c:\\users\\maple\\anaconda3\\envs\\comp_459\\lib\\site-packages (from matplotlib) (24.0)\n",
      "Requirement already satisfied: pillow>=8 in c:\\users\\maple\\anaconda3\\envs\\comp_459\\lib\\site-packages (from matplotlib) (10.2.0)\n",
      "Requirement already satisfied: pyparsing>=2.3.1 in c:\\users\\maple\\anaconda3\\envs\\comp_459\\lib\\site-packages (from matplotlib) (3.1.2)\n",
      "Requirement already satisfied: python-dateutil>=2.7 in c:\\users\\maple\\anaconda3\\envs\\comp_459\\lib\\site-packages (from matplotlib) (2.9.0)\n",
      "Requirement already satisfied: colorama in c:\\users\\maple\\anaconda3\\envs\\comp_459\\lib\\site-packages (from tqdm) (0.4.6)\n",
      "Requirement already satisfied: six>=1.5 in c:\\users\\maple\\anaconda3\\envs\\comp_459\\lib\\site-packages (from python-dateutil>=2.7->matplotlib) (1.16.0)\n"
     ]
    }
   ],
   "source": [
    "!pip install ninja yacs cython matplotlib tqdm opencv-python overrides"
   ]
  },
  {
   "cell_type": "markdown",
   "metadata": {},
   "source": [
    "### 2.3 PyTorch \n",
    "\n",
    "Please install the correct PyTorch version for your GPU. If your GPU does not support CUDA, then you will have to install CPU version of PyTorch.\n",
    "\n",
    "Requirements:\n",
    "- PyTorch >= 1.2.0\n",
    "- torchvision >= 0.4.0"
   ]
  },
  {
   "cell_type": "code",
   "execution_count": 7,
   "metadata": {},
   "outputs": [
    {
     "name": "stdout",
     "output_type": "stream",
     "text": [
      "Wed Mar 20 22:42:49 2024       \n",
      "+---------------------------------------------------------------------------------------+\n",
      "| NVIDIA-SMI 546.09                 Driver Version: 546.09       CUDA Version: 12.3     |\n",
      "|-----------------------------------------+----------------------+----------------------+\n",
      "| GPU  Name                     TCC/WDDM  | Bus-Id        Disp.A | Volatile Uncorr. ECC |\n",
      "| Fan  Temp   Perf          Pwr:Usage/Cap |         Memory-Usage | GPU-Util  Compute M. |\n",
      "|                                         |                      |               MIG M. |\n",
      "|=========================================+======================+======================|\n",
      "|   0  NVIDIA GeForce GTX 1650 Ti   WDDM  | 00000000:01:00.0 Off |                  N/A |\n",
      "| N/A   76C    P8               2W /  50W |    221MiB /  4096MiB |      0%      Default |\n",
      "|                                         |                      |                  N/A |\n",
      "+-----------------------------------------+----------------------+----------------------+\n",
      "                                                                                         \n",
      "+---------------------------------------------------------------------------------------+\n",
      "| Processes:                                                                            |\n",
      "|  GPU   GI   CI        PID   Type   Process name                            GPU Memory |\n",
      "|        ID   ID                                                             Usage      |\n",
      "|=======================================================================================|\n",
      "|    0   N/A  N/A     16528    C+G   ...Brave-Browser\\Application\\brave.exe    N/A      |\n",
      "+---------------------------------------------------------------------------------------+\n"
     ]
    }
   ],
   "source": [
    "# 1. Verify the most recent version of CUDA your GPU supports. \n",
    "# If this command does not work, you may not have an NVIDIA GPU with CUDA support, in which case you can download CPU version of PyTorch.\n",
    "!nvidia-smi"
   ]
  },
  {
   "cell_type": "markdown",
   "metadata": {},
   "source": [
    "##### 2. Install PyTorch and torchvision following the process on the PyTorch website (https://pytorch.org/get-started/locally/).\n",
    "\n",
    "Example on your terminal with the correct conda environment activated:\n",
    "\n",
    "`conda install pytorch torchvision torchaudio pytorch-cuda=11.8 -c pytorch -c nvidia`"
   ]
  },
  {
   "cell_type": "code",
   "execution_count": 2,
   "metadata": {},
   "outputs": [
    {
     "name": "stderr",
     "output_type": "stream",
     "text": [
      "c:\\Users\\maple\\anaconda3\\envs\\comp_459\\lib\\site-packages\\tqdm\\auto.py:21: TqdmWarning: IProgress not found. Please update jupyter and ipywidgets. See https://ipywidgets.readthedocs.io/en/stable/user_install.html\n",
      "  from .autonotebook import tqdm as notebook_tqdm\n"
     ]
    },
    {
     "name": "stdout",
     "output_type": "stream",
     "text": [
      "Torch version: 1.11.0\n",
      "CUDA version: 11.3\n"
     ]
    }
   ],
   "source": [
    "# 3. Verify torch and cuda version\n",
    "import torch\n",
    "print(f\"Torch version: {torch.__version__}\")\n",
    "print(f\"CUDA version: {torch.version.cuda}\")"
   ]
  },
  {
   "cell_type": "markdown",
   "metadata": {},
   "source": [
    "### 2.4 Pycocotools\n",
    "The git repository is already cloned `dependencies/cocoapi`. You just need to run the `setup.py` in `dependencies/cocoapi/PythonAPI`. There is a separate installation for Windowsl for some reason, coco devs do not want to support Windows."
   ]
  },
  {
   "cell_type": "code",
   "execution_count": 3,
   "metadata": {},
   "outputs": [
    {
     "name": "stdout",
     "output_type": "stream",
     "text": [
      "\\\\wsl.localhost\\Debian\\home\\maple143\\RiceU\\COMP459\\sgg-relevance-scoring\\dependencies\n",
      "\\\\wsl.localhost\\Debian\\home\\maple143\\RiceU\\COMP459\\sgg-relevance-scoring\\dependencies\\cocoapi\\PythonAPI\n"
     ]
    },
    {
     "name": "stderr",
     "output_type": "stream",
     "text": [
      "Cloning into 'cocoapi'...\n"
     ]
    },
    {
     "name": "stdout",
     "output_type": "stream",
     "text": [
      "running build_ext\n",
      "Compiling pycocotools/_mask.pyx because it changed.\n",
      "[1/1] Cythonizing pycocotools/_mask.pyx\n",
      "building 'pycocotools._mask' extension\n",
      "creating build\n",
      "creating build\\temp.win-amd64-cpython-310\n",
      "creating build\\temp.win-amd64-cpython-310\\common\n",
      "creating build\\temp.win-amd64-cpython-310\\Release\n",
      "creating build\\temp.win-amd64-cpython-310\\Release\\pycocotools\n",
      "\"C:\\Program Files (x86)\\Microsoft Visual Studio\\2022\\BuildTools\\VC\\Tools\\MSVC\\14.39.33519\\bin\\HostX86\\x64\\cl.exe\" /c /nologo /O2 /W3 /GL /DNDEBUG /MD -Ic:\\Users\\maple\\anaconda3\\envs\\comp_459\\lib\\site-packages\\numpy\\core\\include -I../common -Ic:\\Users\\maple\\anaconda3\\envs\\comp_459\\include -Ic:\\Users\\maple\\anaconda3\\envs\\comp_459\\Include \"-IC:\\Program Files (x86)\\Microsoft Visual Studio\\2022\\BuildTools\\VC\\Tools\\MSVC\\14.39.33519\\include\" \"-IC:\\Program Files (x86)\\Microsoft Visual Studio\\2022\\BuildTools\\VC\\Auxiliary\\VS\\include\" \"-IC:\\Program Files (x86)\\Windows Kits\\10\\include\\10.0.22621.0\\ucrt\" \"-IC:\\Program Files (x86)\\Windows Kits\\10\\\\include\\10.0.22621.0\\\\um\" \"-IC:\\Program Files (x86)\\Windows Kits\\10\\\\include\\10.0.22621.0\\\\shared\" \"-IC:\\Program Files (x86)\\Windows Kits\\10\\\\include\\10.0.22621.0\\\\winrt\" \"-IC:\\Program Files (x86)\\Windows Kits\\10\\\\include\\10.0.22621.0\\\\cppwinrt\" /Tc../common/maskApi.c /Fobuild\\temp.win-amd64-cpython-310\\Release\\../common/maskApi.obj -Wno-cpp -Wno-unused-function -std=c99\n"
     ]
    },
    {
     "name": "stderr",
     "output_type": "stream",
     "text": [
      "c:\\Users\\maple\\anaconda3\\envs\\comp_459\\lib\\site-packages\\Cython\\Compiler\\Main.py:381: FutureWarning: Cython directive 'language_level' not set, using '3str' for now (Py3). This has changed from earlier releases! File: Z:\\home\\maple143\\RiceU\\COMP459\\sgg-relevance-scoring\\dependencies\\cocoapi\\PythonAPI\\pycocotools\\_mask.pyx\n",
      "  tree = Parsing.p_module(s, pxd, full_module_name)\n",
      "cl : Command line error D8021 : invalid numeric argument '/Wno-cpp'\n",
      "error: command 'C:\\\\Program Files (x86)\\\\Microsoft Visual Studio\\\\2022\\\\BuildTools\\\\VC\\\\Tools\\\\MSVC\\\\14.39.33519\\\\bin\\\\HostX86\\\\x64\\\\cl.exe' failed with exit code 2\n"
     ]
    }
   ],
   "source": [
    "# Create a dependencies folder for the COCO API and Apex down the line.\n",
    "!mkdir dependencies\n",
    "\n",
    "# Clone into dependencies folder\n",
    "%cd dependencies\n",
    "if not os.path.isdir(\"cocoapi\"):\n",
    "    !git clone https://github.com/philferriere/cocoapi.git\n",
    "    # Can uncomment out below for the original COCO API, but the above also supports Windows.\n",
    "    # !git clone https://github.com/cocodataset/cocoapi.git \n",
    "\n",
    "%cd cocoapi/PythonAPI\n",
    "!make\n",
    "!make install\n",
    "!python setup.py install\n",
    "% cd ../.."
   ]
  },
  {
   "cell_type": "markdown",
   "metadata": {},
   "source": [
    "### 2.5 Apex\n",
    "\n",
    "The git repository is already cloned in `dependencies/apex`. You just need to run the `setup.py` in `dependencies/apex`:"
   ]
  },
  {
   "cell_type": "code",
   "execution_count": 4,
   "metadata": {},
   "outputs": [
    {
     "name": "stderr",
     "output_type": "stream",
     "text": [
      "c:\\Users\\maple\\anaconda3\\envs\\comp_459\\lib\\site-packages\\setuptools\\_distutils\\cmd.py:66: SetuptoolsDeprecationWarning: setup.py install is deprecated.\n",
      "!!\n",
      "\n",
      "        ********************************************************************************\n",
      "        Please avoid running ``setup.py`` directly.\n",
      "        Instead, use pypa/build, pypa/installer or other\n",
      "        standards-based tools.\n",
      "\n",
      "        See https://blog.ganssle.io/articles/2021/10/setup-py-deprecated.html for details.\n",
      "        ********************************************************************************\n",
      "\n",
      "!!\n",
      "  self.initialize_options()\n",
      "c:\\Users\\maple\\anaconda3\\envs\\comp_459\\lib\\site-packages\\setuptools\\_distutils\\cmd.py:66: EasyInstallDeprecationWarning: easy_install command is deprecated.\n",
      "!!\n",
      "\n",
      "        ********************************************************************************\n",
      "        Please avoid running ``setup.py`` and ``easy_install``.\n",
      "        Instead, use pypa/build, pypa/installer or other\n",
      "        standards-based tools.\n",
      "\n",
      "        See https://github.com/pypa/setuptools/issues/917 for details.\n",
      "        ********************************************************************************\n",
      "\n",
      "!!\n",
      "  self.initialize_options()\n",
      "c:\\Users\\maple\\anaconda3\\envs\\comp_459\\lib\\site-packages\\torch\\utils\\cpp_extension.py:322: UserWarning: Error checking compiler version for cl: [WinError 2] The system cannot find the file specified\n",
      "  warnings.warn(f'Error checking compiler version for {compiler}: {error}')\n",
      "Traceback (most recent call last):\n",
      "  File \"c:\\Users\\maple\\anaconda3\\envs\\comp_459\\lib\\site-packages\\torch\\utils\\cpp_extension.py\", line 1740, in _run_ninja_build\n",
      "    subprocess.run(\n",
      "  File \"c:\\Users\\maple\\anaconda3\\envs\\comp_459\\lib\\subprocess.py\", line 526, in run\n",
      "    raise CalledProcessError(retcode, process.args,\n",
      "subprocess.CalledProcessError: Command '['ninja', '-v']' returned non-zero exit status 1.\n",
      "\n",
      "The above exception was the direct cause of the following exception:\n",
      "\n",
      "Traceback (most recent call last):\n",
      "  File \"c:\\Users\\maple\\OneDrive\\Rice_University\\Semester_Spring_2024\\COMP 459\\project\\ssg-relevance-scoring\\dependencies\\apex\\setup.py\", line 836, in <module>\n",
      "    setup(\n",
      "  File \"c:\\Users\\maple\\anaconda3\\envs\\comp_459\\lib\\site-packages\\setuptools\\__init__.py\", line 104, in setup\n",
      "    return distutils.core.setup(**attrs)\n",
      "  File \"c:\\Users\\maple\\anaconda3\\envs\\comp_459\\lib\\site-packages\\setuptools\\_distutils\\core.py\", line 185, in setup\n",
      "    return run_commands(dist)\n",
      "  File \"c:\\Users\\maple\\anaconda3\\envs\\comp_459\\lib\\site-packages\\setuptools\\_distutils\\core.py\", line 201, in run_commands\n",
      "    dist.run_commands()\n",
      "  File \"c:\\Users\\maple\\anaconda3\\envs\\comp_459\\lib\\site-packages\\setuptools\\_distutils\\dist.py\", line 969, in run_commands\n",
      "    self.run_command(cmd)\n",
      "  File \"c:\\Users\\maple\\anaconda3\\envs\\comp_459\\lib\\site-packages\\setuptools\\dist.py\", line 967, in run_command\n",
      "    super().run_command(command)\n",
      "  File \"c:\\Users\\maple\\anaconda3\\envs\\comp_459\\lib\\site-packages\\setuptools\\_distutils\\dist.py\", line 988, in run_command\n",
      "    cmd_obj.run()\n",
      "  File \"c:\\Users\\maple\\anaconda3\\envs\\comp_459\\lib\\site-packages\\setuptools\\command\\install.py\", line 87, in run\n",
      "    self.do_egg_install()\n",
      "  File \"c:\\Users\\maple\\anaconda3\\envs\\comp_459\\lib\\site-packages\\setuptools\\command\\install.py\", line 139, in do_egg_install\n",
      "    self.run_command('bdist_egg')\n",
      "  File \"c:\\Users\\maple\\anaconda3\\envs\\comp_459\\lib\\site-packages\\setuptools\\_distutils\\cmd.py\", line 318, in run_command\n",
      "    self.distribution.run_command(command)\n",
      "  File \"c:\\Users\\maple\\anaconda3\\envs\\comp_459\\lib\\site-packages\\setuptools\\dist.py\", line 967, in run_command\n",
      "    super().run_command(command)\n",
      "  File \"c:\\Users\\maple\\anaconda3\\envs\\comp_459\\lib\\site-packages\\setuptools\\_distutils\\dist.py\", line 988, in run_command\n",
      "    cmd_obj.run()\n",
      "  File \"c:\\Users\\maple\\anaconda3\\envs\\comp_459\\lib\\site-packages\\setuptools\\command\\bdist_egg.py\", line 167, in run\n",
      "    cmd = self.call_command('install_lib', warn_dir=0)\n",
      "  File \"c:\\Users\\maple\\anaconda3\\envs\\comp_459\\lib\\site-packages\\setuptools\\command\\bdist_egg.py\", line 153, in call_command\n",
      "    self.run_command(cmdname)\n",
      "  File \"c:\\Users\\maple\\anaconda3\\envs\\comp_459\\lib\\site-packages\\setuptools\\_distutils\\cmd.py\", line 318, in run_command\n",
      "    self.distribution.run_command(command)\n",
      "  File \"c:\\Users\\maple\\anaconda3\\envs\\comp_459\\lib\\site-packages\\setuptools\\dist.py\", line 967, in run_command\n",
      "    super().run_command(command)\n",
      "  File \"c:\\Users\\maple\\anaconda3\\envs\\comp_459\\lib\\site-packages\\setuptools\\_distutils\\dist.py\", line 988, in run_command\n",
      "    cmd_obj.run()\n",
      "  File \"c:\\Users\\maple\\anaconda3\\envs\\comp_459\\lib\\site-packages\\setuptools\\command\\install_lib.py\", line 11, in run\n",
      "    self.build()\n",
      "  File \"c:\\Users\\maple\\anaconda3\\envs\\comp_459\\lib\\site-packages\\setuptools\\_distutils\\command\\install_lib.py\", line 111, in build\n",
      "    self.run_command('build_ext')\n",
      "  File \"c:\\Users\\maple\\anaconda3\\envs\\comp_459\\lib\\site-packages\\setuptools\\_distutils\\cmd.py\", line 318, in run_command\n",
      "    self.distribution.run_command(command)\n",
      "  File \"c:\\Users\\maple\\anaconda3\\envs\\comp_459\\lib\\site-packages\\setuptools\\dist.py\", line 967, in run_command\n",
      "    super().run_command(command)\n",
      "  File \"c:\\Users\\maple\\anaconda3\\envs\\comp_459\\lib\\site-packages\\setuptools\\_distutils\\dist.py\", line 988, in run_command\n",
      "    cmd_obj.run()\n",
      "  File \"c:\\Users\\maple\\anaconda3\\envs\\comp_459\\lib\\site-packages\\setuptools\\command\\build_ext.py\", line 91, in run\n",
      "    _build_ext.run(self)\n",
      "  File \"c:\\Users\\maple\\anaconda3\\envs\\comp_459\\lib\\site-packages\\setuptools\\_distutils\\command\\build_ext.py\", line 345, in run\n",
      "    self.build_extensions()\n",
      "  File \"c:\\Users\\maple\\anaconda3\\envs\\comp_459\\lib\\site-packages\\torch\\utils\\cpp_extension.py\", line 741, in build_extensions\n",
      "    build_ext.build_extensions(self)\n",
      "  File \"c:\\Users\\maple\\anaconda3\\envs\\comp_459\\lib\\site-packages\\setuptools\\_distutils\\command\\build_ext.py\", line 467, in build_extensions\n",
      "    self._build_extensions_serial()\n",
      "  File \"c:\\Users\\maple\\anaconda3\\envs\\comp_459\\lib\\site-packages\\setuptools\\_distutils\\command\\build_ext.py\", line 493, in _build_extensions_serial\n",
      "    self.build_extension(ext)\n",
      "  File \"c:\\Users\\maple\\anaconda3\\envs\\comp_459\\lib\\site-packages\\setuptools\\command\\build_ext.py\", line 252, in build_extension\n",
      "    _build_ext.build_extension(self, ext)\n",
      "  File \"c:\\Users\\maple\\anaconda3\\envs\\comp_459\\lib\\site-packages\\Cython\\Distutils\\build_ext.py\", line 135, in build_extension\n",
      "    super(build_ext, self).build_extension(ext)\n",
      "  File \"c:\\Users\\maple\\anaconda3\\envs\\comp_459\\lib\\site-packages\\setuptools\\_distutils\\command\\build_ext.py\", line 548, in build_extension\n",
      "    objects = self.compiler.compile(\n",
      "  File \"c:\\Users\\maple\\anaconda3\\envs\\comp_459\\lib\\site-packages\\torch\\utils\\cpp_extension.py\", line 714, in win_wrap_ninja_compile\n",
      "    _write_ninja_file_and_compile_objects(\n",
      "  File \"c:\\Users\\maple\\anaconda3\\envs\\comp_459\\lib\\site-packages\\torch\\utils\\cpp_extension.py\", line 1419, in _write_ninja_file_and_compile_objects\n",
      "    _run_ninja_build(\n",
      "  File \"c:\\Users\\maple\\anaconda3\\envs\\comp_459\\lib\\site-packages\\torch\\utils\\cpp_extension.py\", line 1756, in _run_ninja_build\n",
      "    raise RuntimeError(message) from e\n",
      "RuntimeError: Error compiling objects for extension\n"
     ]
    },
    {
     "name": "stdout",
     "output_type": "stream",
     "text": [
      "\n",
      "\n",
      "torch.__version__  = 1.11.0\n",
      "\n",
      "\n",
      "\n",
      "Compiling cuda extensions with\n",
      "nvcc: NVIDIA (R) Cuda compiler driver\n",
      "Copyright (c) 2005-2021 NVIDIA Corporation\n",
      "Built on Mon_May__3_19:41:42_Pacific_Daylight_Time_2021\n",
      "Cuda compilation tools, release 11.3, V11.3.109\n",
      "Build cuda_11.3.r11.3/compiler.29920130_0\n",
      "from C:\\Program Files\\NVIDIA GPU Computing Toolkit\\CUDA\\v11.3/bin\n",
      "\n",
      "running install\n",
      "running bdist_egg\n",
      "running egg_info\n",
      "creating apex.egg-info\n",
      "writing apex.egg-info\\PKG-INFO\n",
      "writing dependency_links to apex.egg-info\\dependency_links.txt\n",
      "writing requirements to apex.egg-info\\requires.txt\n",
      "writing top-level names to apex.egg-info\\top_level.txt\n",
      "writing manifest file 'apex.egg-info\\SOURCES.txt'\n",
      "reading manifest file 'apex.egg-info\\SOURCES.txt'\n",
      "writing manifest file 'apex.egg-info\\SOURCES.txt'\n",
      "installing library code to build\\bdist.win-amd64\\egg\n",
      "running install_lib\n",
      "running build_ext\n",
      "building 'apex_C' extension\n",
      "creating c:\\Users\\maple\\OneDrive\\Rice_University\\Semester_Spring_2024\\COMP 459\\project\\ssg-relevance-scoring\\build\n",
      "creating c:\\Users\\maple\\OneDrive\\Rice_University\\Semester_Spring_2024\\COMP 459\\project\\ssg-relevance-scoring\\build\\temp.win-amd64-cpython-310\n",
      "creating c:\\Users\\maple\\OneDrive\\Rice_University\\Semester_Spring_2024\\COMP 459\\project\\ssg-relevance-scoring\\build\\temp.win-amd64-cpython-310\\Release\n",
      "creating c:\\Users\\maple\\OneDrive\\Rice_University\\Semester_Spring_2024\\COMP 459\\project\\ssg-relevance-scoring\\build\\temp.win-amd64-cpython-310\\Release\\csrc\n",
      "Emitting ninja build file c:\\Users\\maple\\OneDrive\\Rice_University\\Semester_Spring_2024\\COMP 459\\project\\ssg-relevance-scoring\\build\\temp.win-amd64-cpython-310\\Release\\build.ninja...\n",
      "Compiling objects...\n",
      "Allowing ninja to set a default number of workers... (overridable by setting the environment variable MAX_JOBS=N)\n",
      "ninja: error: 'c:/Users/maple/OneDrive/Rice_University/Semester_Spring_2024/COMP 459/project/ssg-relevance-scoring/csrc/flatten_unflatten.cpp', needed by 'c:/Users/maple/OneDrive/Rice_University/Semester_Spring_2024/COMP 459/project/ssg-relevance-scoring/build/temp.win-amd64-cpython-310/Release/csrc/flatten_unflatten.obj', missing and no known rule to make it\n"
     ]
    }
   ],
   "source": [
    "if not os.path.isdir(\"apex\"):\n",
    "    !git clone https://github.com/NVIDIA/apex.git\n",
    "\n",
    "%cd apex\n",
    "!python setup.py install\n",
    "%cd .."
   ]
  },
  {
   "cell_type": "markdown",
   "metadata": {},
   "source": [
    "### 2.6 Install and compile the Scene-Graph Generation Model"
   ]
  },
  {
   "cell_type": "code",
   "execution_count": null,
   "metadata": {},
   "outputs": [],
   "source": [
    "!python scene-graph-benchmark/setup.py build develop"
   ]
  },
  {
   "cell_type": "markdown",
   "metadata": {},
   "source": []
  }
 ],
 "metadata": {
  "kernelspec": {
   "display_name": "comp_459",
   "language": "python",
   "name": "python3"
  },
  "language_info": {
   "codemirror_mode": {
    "name": "ipython",
    "version": 3
   },
   "file_extension": ".py",
   "mimetype": "text/x-python",
   "name": "python",
   "nbconvert_exporter": "python",
   "pygments_lexer": "ipython3",
   "version": "3.10.14"
  }
 },
 "nbformat": 4,
 "nbformat_minor": 2
}

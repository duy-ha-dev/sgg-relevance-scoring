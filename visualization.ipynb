{
 "cells": [
  {
   "cell_type": "code",
   "execution_count": 2,
   "metadata": {},
   "outputs": [
    {
     "name": "stderr",
     "output_type": "stream",
     "text": [
      "/home/maple143/anaconda3/envs/sgg_relevance_scoring/lib/python3.8/site-packages/tqdm/auto.py:21: TqdmWarning: IProgress not found. Please update jupyter and ipywidgets. See https://ipywidgets.readthedocs.io/en/stable/user_install.html\n",
      "  from .autonotebook import tqdm as notebook_tqdm\n"
     ]
    }
   ],
   "source": [
    "import torch\n",
    "import json\n",
    "import h5py\n",
    "import random\n",
    "import numpy as np\n",
    "from matplotlib.pyplot import imshow\n",
    "from PIL import Image, ImageDraw"
   ]
  },
  {
   "cell_type": "code",
   "execution_count": 4,
   "metadata": {},
   "outputs": [
    {
     "ename": "",
     "evalue": "",
     "output_type": "error",
     "traceback": [
      "\u001b[1;31mThe Kernel crashed while executing code in the current cell or a previous cell. \n",
      "\u001b[1;31mPlease review the code in the cell(s) to identify a possible cause of the failure. \n",
      "\u001b[1;31mClick <a href='https://aka.ms/vscodeJupyterKernelCrash'>here</a> for more info. \n",
      "\u001b[1;31mView Jupyter <a href='command:jupyter.viewOutput'>log</a> for further details."
     ]
    }
   ],
   "source": [
    "custom_prediction = json.load(open('results/custom_prediction.json'))\n",
    "custom_data_info = json.load(open('results/custom_data_info.json'))"
   ]
  },
  {
   "cell_type": "code",
   "execution_count": null,
   "metadata": {},
   "outputs": [],
   "source": [
    "def draw_single_box(pic, box, color='red', draw_info=None):\n",
    "    draw = ImageDraw.Draw(pic)\n",
    "    x1,y1,x2,y2 = int(box[0]), int(box[1]), int(box[2]), int(box[3])\n",
    "    draw.rectangle(((x1, y1), (x2, y2)), outline=color)\n",
    "    if draw_info:\n",
    "        draw.rectangle(((x1, y1), (x1+50, y1+10)), fill=color)\n",
    "        info = draw_info\n",
    "        draw.text((x1, y1), info)\n",
    "        \n",
    "def print_list(name, input_list, scores=None):\n",
    "    for i, item in enumerate(input_list):\n",
    "        if scores == None:\n",
    "            print(name + ' ' + str(i) + ': ' + str(item))\n",
    "        else:\n",
    "            print(name + ' ' + str(i) + ': ' + str(item) + '; score: ' + str(scores[i]))\n",
    "    \n",
    "def draw_image(img_path, boxes, box_labels, rel_labels, box_scores=None, rel_scores=None):\n",
    "    size = get_size(Image.open(img_path).size)\n",
    "    pic = Image.open(img_path).resize(size)\n",
    "    num_obj = len(boxes)\n",
    "    for i in range(num_obj):\n",
    "        info = str(i) + '_' + box_labels[i]\n",
    "        draw_single_box(pic, boxes[i], draw_info=info)\n",
    "    display(pic)\n",
    "    print('*' * 50)\n",
    "    print_list('box_labels', box_labels, box_scores)\n",
    "    print('*' * 50)\n",
    "    print_list('rel_labels', rel_labels, rel_scores)\n",
    "    \n",
    "    return None\n",
    "\n",
    "def get_size(image_size):\n",
    "    min_size = 600\n",
    "    max_size = 1000\n",
    "    w, h = image_size\n",
    "    size = min_size\n",
    "    if max_size is not None:\n",
    "        min_original_size = float(min((w, h)))\n",
    "        max_original_size = float(max((w, h)))\n",
    "        if max_original_size / min_original_size * size > max_size:\n",
    "            size = int(round(max_size * min_original_size / max_original_size))\n",
    "    if (w <= h and w == size) or (h <= w and h == size):\n",
    "        return (w, h)\n",
    "    if w < h:\n",
    "        ow = size\n",
    "        oh = int(size * h / w)\n",
    "    else:\n",
    "        oh = size\n",
    "        ow = int(size * w / h)\n",
    "    return (ow, oh)"
   ]
  },
  {
   "cell_type": "code",
   "execution_count": null,
   "metadata": {},
   "outputs": [],
   "source": []
  }
 ],
 "metadata": {
  "kernelspec": {
   "display_name": "sgg_relevance_scoring",
   "language": "python",
   "name": "python3"
  },
  "language_info": {
   "codemirror_mode": {
    "name": "ipython",
    "version": 3
   },
   "file_extension": ".py",
   "mimetype": "text/x-python",
   "name": "python",
   "nbconvert_exporter": "python",
   "pygments_lexer": "ipython3",
   "version": "3.8.19"
  }
 },
 "nbformat": 4,
 "nbformat_minor": 2
}
